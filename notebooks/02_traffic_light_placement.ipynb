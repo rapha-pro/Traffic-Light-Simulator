{
 "cells": [
  {
   "cell_type": "markdown",
   "id": "d2abd90e-5cd1-4b6e-8809-0402df64f33b",
   "metadata": {},
   "source": [
    "# Deceleration Analysis for Traffic Light Placement\n",
    "\n",
    "## Objective:\n",
    "Based on our EDA findings, we know this is high-quality highway data with free-flowing traffic.\n",
    "Now we need to identify where vehicles naturally decelerate to place realistic traffic lights.\n",
    "\n",
    "## Approach:\n",
    "1. Calculate deceleration from speed changes\n",
    "2. Identify significant deceleration events  \n",
    "3. Analyze spatial clustering of events\n",
    "4. Recommend traffic light placement locations"
   ]
  },
  {
   "cell_type": "code",
   "execution_count": null,
   "id": "2184e962-0094-4947-84c0-e4004a150014",
   "metadata": {},
   "outputs": [],
   "source": [
    "import sys\n",
    "from pathlib import Path\n",
    "import pandas as pd\n",
    "import numpy as np\n",
    "import matplotlib.pyplot as plt\n",
    "import seaborn as sns\n",
    "\n",
    "# Force matplotlib to use inline backend\n",
    "%matplotlib inline\n",
    "\n",
    "# Add the parent directory to sys.path (useful to resolve module import errors)\n",
    "sys.path.append(str(Path().resolve().parent.parent))\n",
    "\n",
    "# Load the Data saved from EDA\n",
    "tracks_df = pd.read_csv('../data/processed/highd_cleaned.csv')  # Save from EDA\n"
   ]
  },
  {
   "cell_type": "markdown",
   "id": "81c411e7-f8a1-4f8b-a99c-104a27f190c7",
   "metadata": {},
   "source": [
    "## Analyzing Stopping Patterns"
   ]
  },
  {
   "cell_type": "code",
   "execution_count": null,
   "id": "f02d2882-ddc3-451d-86be-64d75d146cfd",
   "metadata": {},
   "outputs": [],
   "source": [
    "# Find slow-moving vehicles\n",
    "SLOW_SPEED_THRESHOLD = 22  # m/s (about 79 km/h)\n",
    "slow_events = tracks_df[tracks_df['speed'] < SLOW_SPEED_THRESHOLD]\n",
    "\n",
    "display(tracks_df[[\"speed\"]].describe())"
   ]
  },
  {
   "cell_type": "markdown",
   "id": "4f7562ad-3397-465f-b40d-d9217049bc9a",
   "metadata": {},
   "source": [
    "#### Calculate_deceleration:\n",
    "Function to calculate the deceleration value for each vehicle. It sorts the tracks by vehicle id and frame. \n",
    "Example:\n",
    "\n",
    "From\n",
    "| id | frame | speed |\n",
    "|----|-------|-------|\n",
    "| 1  | 5     | 30    |\n",
    "| 2  | 1     | 25    |\n",
    "| 1  | 3     | 28    |\n",
    "| 1  | 4     | 29    |\n",
    "| 2  | 2     | 26    |\n",
    "\n",
    "To\n",
    "\n",
    "| id | frame | speed |\n",
    "|----|-------|-------|\n",
    "| 1  | 3     | 28    |\n",
    "| 1  | 4     | 29    |\n",
    "| 1  | 5     | 30    |\n",
    "| 2  | 1     | 25    |\n",
    "| 2  | 2     | 26    |\n",
    "\n",
    "It creates a speed column if it does not exist, and later groups the data by id and uses `.diff` to calculate the difference between consecutive rows.\n",
    "The deceleration is calculated by the formula: `acceleration = change in speed / Time elapsed`. \n",
    "- Data is recorded at 25 Hz (a.k.a: FRAME_RATE = 25 frames per second)\n",
    "- Each frame = 1/25 = 0.04 seconds apart\n",
    "- If speed changes by -2 m/s in one frame\n",
    "\n",
    "Deceleration = -2 m/s ÷ 0.04 seconds = -50 m/s² = (-2*25)"
   ]
  },
  {
   "cell_type": "code",
   "execution_count": null,
   "id": "6dad6ade-653d-4189-b268-925f4ce6e112",
   "metadata": {},
   "outputs": [],
   "source": [
    "def calculate_deceleration(df):\n",
    "    \"\"\"\n",
    "    Calculate the deceleration for each vehicle trajectory\n",
    "    \n",
    "    @params:\n",
    "        - df: tracks dataframe\n",
    "    @returns:\n",
    "        - df_sorted: Sorted df with two new columns: 'speed_change' and 'deceleration'\n",
    "    \"\"\"\n",
    "    \n",
    "    # Sort by vehicle ID and frame to ensure proper time ordering\n",
    "    df_sorted = tracks_df.sort_values(['id', 'frame']).copy()\n",
    "    \n",
    "    if 'speed' not in df_sorted.columns:\n",
    "        df_sorted['speed'] = np.sqrt(df_sorted['xVelocity']**2 + df_sorted['yVelocity']**2)\n",
    "    \n",
    "    df_sorted['speed_change'] = df_sorted.groupby('id')['speed'].diff()\n",
    "    \n",
    "    df_sorted['deceleration'] = df_sorted['speed_change'] * 25\n",
    "    \n",
    "    print(f\"Calculated deceleration for {df_sorted['id'].nunique()} vehicles\")\n",
    "    \n",
    "    return df_sorted"
   ]
  },
  {
   "cell_type": "code",
   "execution_count": null,
   "id": "37a2eea0-2d59-4efe-bc71-169cc80572bb",
   "metadata": {},
   "outputs": [],
   "source": [
    "tracks_with_decel = calculate_deceleration(tracks_df)\n",
    "\n",
    "display(tracks_with_decel[[\"deceleration\", \"speed_change\"]].describe())"
   ]
  },
  {
   "cell_type": "markdown",
   "id": "87118c1b-e209-4337-b189-6806e467e8c3",
   "metadata": {},
   "source": [
    "### Identify Significant deceleration events"
   ]
  },
  {
   "cell_type": "code",
   "execution_count": null,
   "id": "d7e53ce8-39ca-45ae-a9c4-ffb1019179e1",
   "metadata": {},
   "outputs": [],
   "source": [
    "deceleration_threshold = -2.0  # m/s² (negative = slowing down)\n",
    "\n",
    "# Find significant deceleration events\n",
    "decel_events = tracks_with_decel[tracks_with_decel['deceleration'] < deceleration_threshold].copy()\n",
    "\n",
    "print(f\"Deceleration threshold: {deceleration_threshold} m/s²\")\n",
    "print(f\"Found {len(decel_events):,} significant deceleration events\")\n",
    "print(f\"Percentage of data: {len(decel_events)/len(tracks_with_decel)*100:.2f}%\")\n",
    "print(f\"Number of vehicles with decel events: {decel_events['id'].nunique()}\")\n",
    "\n",
    "if len(decel_events) > 0:\n",
    "    print(f\"\\nDeceleration event statistics:\\n\" + \"-\"*6)\n",
    "    print(f\"Average deceleration: {decel_events['deceleration'].mean():.2f} m/s²\")\n",
    "    print(f\"Strongest deceleration: {decel_events['deceleration'].min():.2f} m/s²\")\n",
    "    \n",
    "    # Show sample events\n",
    "    print(f\"\\nSample deceleration events:\\n\" + \"-\"*6)\n",
    "    sample_events = decel_events[['id', 'frame', 'x', 'y', 'speed', 'deceleration', 'laneId']].head(10)\n",
    "    display(sample_events.head())"
   ]
  },
  {
   "cell_type": "markdown",
   "id": "1355cf00-73ec-4164-8dd3-fbca1ce781fd",
   "metadata": {},
   "source": [
    "##### Plot 1: Deceleration distribution"
   ]
  },
  {
   "cell_type": "code",
   "execution_count": null,
   "id": "59b31511-7590-4e62-97fd-5f9d0a4405ed",
   "metadata": {},
   "outputs": [],
   "source": [
    "plt.figure(figsize=(14, 4))\n",
    "\n",
    "plt.subplot(1, 2, 1)\n",
    "plt.hist(tracks_with_decel['deceleration'], bins=100, alpha=0.7, density=True, color='skyblue', edgecolor='black')\n",
    "plt.axvline(deceleration_threshold, color='red', linestyle='--', linewidth=2, \n",
    "            label=f'Threshold: {deceleration_threshold} m/s²')\n",
    "plt.axvline(0, color='green', linestyle='-', linewidth=1, label='No change')\n",
    "plt.xlabel('Deceleration (m/s²)')\n",
    "plt.ylabel('Frequency')\n",
    "plt.title('Distribution of Deceleration Events')\n",
    "plt.legend()\n",
    "plt.grid(True, alpha=0.3)"
   ]
  },
  {
   "cell_type": "markdown",
   "id": "ea25a727-a821-447b-8f5a-afd5b53009dd",
   "metadata": {},
   "source": [
    "##### Plot 2: Acceleration vs Deceleration"
   ]
  },
  {
   "cell_type": "code",
   "execution_count": null,
   "id": "8e9198c4-bc27-451a-8375-50d84e73d5fb",
   "metadata": {},
   "outputs": [],
   "source": [
    "plt.subplot(1, 2, 2)\n",
    "acceleration_events = tracks_with_decel[tracks_with_decel['deceleration'] > 2.0]\n",
    "plt.hist(tracks_with_decel['deceleration'], bins=50, alpha=0.5, density=True, label='All events', color='lightblue')\n",
    "plt.hist(decel_events['deceleration'], bins=30, alpha=0.7, density=True, label='Significant decel', color='red')\n",
    "plt.hist(acceleration_events['deceleration'], bins=30, alpha=0.7, density=True, label='Significant accel', color='green')\n",
    "plt.xlabel('Deceleration/Acceleration (m/s²)')\n",
    "plt.ylabel('Frequency')\n",
    "plt.title('Deceleration vs Acceleration Events')\n",
    "plt.legend()\n",
    "plt.grid(True, alpha=0.3)\n",
    "\n",
    "plt.tight_layout()\n",
    "plt.show()"
   ]
  },
  {
   "cell_type": "code",
   "execution_count": null,
   "id": "f94b9b1a-b525-4ca6-b50b-33db771c0b2b",
   "metadata": {},
   "outputs": [],
   "source": [
    "## Spatial Analysis - Where Do Deceleration Events Happen?"
   ]
  },
  {
   "cell_type": "code",
   "execution_count": null,
   "id": "f5b34f54-8a87-4479-a4e4-bf1cbf148a77",
   "metadata": {},
   "outputs": [],
   "source": [
    "plt.figure(figsize=(15, 6))\n",
    "    \n",
    "# Background: all vehicle positions (light intensity)\n",
    "plt.scatter(tracks_with_decel['x'], tracks_with_decel['y'], \n",
    "           c='lightblue', alpha=0.1, s=1, label='All positions')\n",
    "\n",
    "# Foreground: deceleration events (colored by intensity)\n",
    "scatter = plt.scatter(decel_events['x'], decel_events['y'], \n",
    "                     c=decel_events['deceleration'], cmap='Reds_r', \n",
    "                     alpha=0.7, s=20, \n",
    "                     label='Deceleration events')\n",
    "\n",
    "plt.colorbar(scatter, label='Deceleration (m/s²)')\n",
    "plt.xlabel('X Position (meters)')\n",
    "plt.ylabel('Y Position (meters)')\n",
    "plt.title('Spatial Distribution of Deceleration Events\\n(Darker red = stronger deceleration)')\n",
    "plt.legend()\n",
    "plt.grid(True, alpha=0.3)\n",
    "plt.show()"
   ]
  }
 ],
 "metadata": {
  "kernelspec": {
   "display_name": "Python [conda env:base] *",
   "language": "python",
   "name": "conda-base-py"
  },
  "language_info": {
   "codemirror_mode": {
    "name": "ipython",
    "version": 3
   },
   "file_extension": ".py",
   "mimetype": "text/x-python",
   "name": "python",
   "nbconvert_exporter": "python",
   "pygments_lexer": "ipython3",
   "version": "3.12.7"
  }
 },
 "nbformat": 4,
 "nbformat_minor": 5
}
